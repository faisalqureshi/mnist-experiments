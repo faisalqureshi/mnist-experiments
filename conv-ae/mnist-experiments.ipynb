{
 "cells": [
  {
   "cell_type": "markdown",
   "id": "fc151bba-0e8a-4b33-a1a0-a2f31bf119d0",
   "metadata": {},
   "source": [
    "# MNIST experiments\n",
    "\n",
    "faisal.qureshi@ontariotechu.ca"
   ]
  },
  {
   "cell_type": "code",
   "execution_count": 114,
   "id": "aaadbb8e-2eb7-4721-a796-541f26b5400e",
   "metadata": {},
   "outputs": [],
   "source": [
    "from importlib import reload\n",
    "import matplotlib.pyplot as plt\n",
    "import torch\n",
    "import data\n",
    "import modelae\n",
    "import train\n",
    "import evaluate"
   ]
  },
  {
   "cell_type": "markdown",
   "id": "50487ab9-dae3-4dc6-8079-d29dbf6abc61",
   "metadata": {},
   "source": [
    "# Data"
   ]
  },
  {
   "cell_type": "code",
   "execution_count": 115,
   "id": "fe2cc6ec-a8b2-45b4-88fd-57353f0b7415",
   "metadata": {},
   "outputs": [
    {
     "data": {
      "text/plain": [
       "<module 'data' from '/home/dockeruser/code/pytorch-notes/lessons/mnist-experiments/data.py'>"
      ]
     },
     "execution_count": 115,
     "metadata": {},
     "output_type": "execute_result"
    }
   ],
   "source": [
    "reload(data)"
   ]
  },
  {
   "cell_type": "code",
   "execution_count": 116,
   "id": "40d2274e-b471-4c55-9fac-6957800be51c",
   "metadata": {},
   "outputs": [],
   "source": [
    "dataset = data.set_mnist_data(datafolder='../../datasets', digits=[6])"
   ]
  },
  {
   "cell_type": "code",
   "execution_count": 117,
   "id": "ba88957d-f4b3-44fb-b763-b0ea4a429f2c",
   "metadata": {},
   "outputs": [
    {
     "data": {
      "image/png": "[encoded data removed]",
      "text/plain": [
       "<Figure size 360x360 with 1 Axes>"
      ]
     },
     "metadata": {
      "needs_background": "light"
     },
     "output_type": "display_data"
    }
   ],
   "source": [
    "img, label = data.view(dataset)\n",
    "plt.figure(figsize=(5,5))\n",
    "plt.imshow(img)\n",
    "plt.title(label);"
   ]
  },
  {
   "cell_type": "markdown",
   "id": "19724f45-ff51-4bd2-95f4-827f4929c9c1",
   "metadata": {},
   "source": [
    "## Training, validation and test datasets"
   ]
  },
  {
   "cell_type": "code",
   "execution_count": 107,
   "id": "85ffd250-7100-4fe1-b5d7-9de9764cae3e",
   "metadata": {},
   "outputs": [
    {
     "name": "stdout",
     "output_type": "stream",
     "text": [
      "======================================\n",
      "Datasets:\n",
      "  Total samples: 5918\n",
      "  Training samples: 2959\n",
      "  Validation samples: 1183\n",
      "  Test samples: 1776\n",
      "======================================\n"
     ]
    }
   ],
   "source": [
    "training_dataset, validation_dataset, test_dataset = data.split_training_validation_test(dataset, 0.5, 0.2, 0.3)"
   ]
  },
  {
   "cell_type": "markdown",
   "id": "c31f5af2-f435-4cbd-8db8-f0c5165b63f9",
   "metadata": {},
   "source": [
    "# Model"
   ]
  },
  {
   "cell_type": "code",
   "execution_count": 108,
   "id": "7b3e9148-7eec-418e-95fe-6175dae52c82",
   "metadata": {},
   "outputs": [
    {
     "data": {
      "text/plain": [
       "<module 'modelae' from '/home/dockeruser/code/pytorch-notes/lessons/mnist-experiments/modelae.py'>"
      ]
     },
     "execution_count": 108,
     "metadata": {},
     "output_type": "execute_result"
    }
   ],
   "source": [
    "reload(modelae)"
   ]
  },
  {
   "cell_type": "code",
   "execution_count": 118,
   "id": "714b615f-a9a0-4e6c-83f1-2eb4cf70151f",
   "metadata": {},
   "outputs": [
    {
     "name": "stdout",
     "output_type": "stream",
     "text": [
      "AutoEncoder(\n",
      "  (encoder): Sequential(\n",
      "    (0): Conv2d(1, 16, kernel_size=(3, 3), stride=(3, 3), padding=(1, 1))\n",
      "    (1): ReLU(inplace=True)\n",
      "    (2): MaxPool2d(kernel_size=2, stride=2, padding=0, dilation=1, ceil_mode=False)\n",
      "    (3): Conv2d(16, 8, kernel_size=(3, 3), stride=(2, 2), padding=(1, 1))\n",
      "    (4): ReLU(inplace=True)\n",
      "    (5): MaxPool2d(kernel_size=2, stride=1, padding=0, dilation=1, ceil_mode=False)\n",
      "  )\n",
      "  (decoder): Sequential(\n",
      "    (0): ConvTranspose2d(8, 16, kernel_size=(3, 3), stride=(2, 2))\n",
      "    (1): ReLU(inplace=True)\n",
      "    (2): ConvTranspose2d(16, 8, kernel_size=(5, 5), stride=(3, 3), padding=(1, 1))\n",
      "    (3): ReLU(inplace=True)\n",
      "    (4): ConvTranspose2d(8, 1, kernel_size=(2, 2), stride=(2, 2), padding=(1, 1))\n",
      "    (5): Tanh()\n",
      "  )\n",
      ")\n"
     ]
    }
   ],
   "source": [
    "ae = modelae.AutoEncoder()\n",
    "print(ae)"
   ]
  },
  {
   "cell_type": "markdown",
   "id": "ec3a09f5-a6d4-4c96-88a4-946795e1496e",
   "metadata": {},
   "source": [
    "# Compute environment"
   ]
  },
  {
   "cell_type": "code",
   "execution_count": 119,
   "id": "d1ae750a-4815-450f-b9cf-d2791fbfa35a",
   "metadata": {},
   "outputs": [
    {
     "name": "stdout",
     "output_type": "stream",
     "text": [
      "Cuda is available: True\n",
      "Device 0: GeForce GTX TITAN X\n",
      "Device 1: GeForce GTX 980\n"
     ]
    }
   ],
   "source": [
    "print(f'Cuda is available: {torch.cuda.is_available()}')\n",
    "\n",
    "for i in range(torch.cuda.device_count()):\n",
    "    print(f'Device {i}: {torch.cuda.get_device_name(i)}')"
   ]
  },
  {
   "cell_type": "markdown",
   "id": "3e30d398-22c2-4816-a2eb-1eb99b2dbe54",
   "metadata": {},
   "source": [
    "# Model training"
   ]
  },
  {
   "cell_type": "markdown",
   "id": "06d234f5-f70a-481d-b9ba-13ac569e04a0",
   "metadata": {
    "tags": []
   },
   "source": [
    "## Setting up training, validation, and test dataloaders"
   ]
  },
  {
   "cell_type": "code",
   "execution_count": 120,
   "id": "ac2ca43e-0a9c-497d-87db-c0423f9d1c77",
   "metadata": {},
   "outputs": [
    {
     "name": "stdout",
     "output_type": "stream",
     "text": [
      "======================================\n",
      "Dataloaders:\n",
      "  Batch size: 16\n",
      "  Shuffle: False\n",
      "  Training batches: 185\n",
      "  Validation batches: 74\n",
      "  Test batches: 111\n",
      "======================================\n"
     ]
    }
   ],
   "source": [
    "training_dataloader, validation_dataloader, test_dataloader = data.set_dataloaders(training_dataset,\n",
    "                                                                                   validation_dataset,\n",
    "                                                                                   test_dataset,\n",
    "                                                                                   batch_size=16,\n",
    "                                                                                   shuffle=False)"
   ]
  },
  {
   "cell_type": "markdown",
   "id": "25600ff7-6759-476a-a9d9-a7b10a67e756",
   "metadata": {},
   "source": [
    "## Training"
   ]
  },
  {
   "cell_type": "code",
   "execution_count": 121,
   "id": "2959134f-576b-492c-9ec2-0bf86eb36f3f",
   "metadata": {},
   "outputs": [
    {
     "data": {
      "text/plain": [
       "<module 'train' from '/home/dockeruser/code/pytorch-notes/lessons/mnist-experiments/train.py'>"
      ]
     },
     "execution_count": 121,
     "metadata": {},
     "output_type": "execute_result"
    }
   ],
   "source": [
    "reload(train)"
   ]
  },
  {
   "cell_type": "code",
   "execution_count": 122,
   "id": "ce19b284-3d11-44e0-a2b9-426ba764735c",
   "metadata": {},
   "outputs": [
    {
     "name": "stdout",
     "output_type": "stream",
     "text": [
      "Training on [0]: GeForce GTX TITAN X\n"
     ]
    }
   ],
   "source": [
    "training = train.Training(0)\n",
    "\n",
    "training.set_loss()\n",
    "training.set_model(ae)\n",
    "training.set_optimizer(learning_rate=1e-2, weight_decay=1e-5)\n",
    "training.set_training_dataloader(training_dataloader)\n",
    "training.set_validation_dataloader(validation_dataloader)"
   ]
  },
  {
   "cell_type": "markdown",
   "id": "98e2fb5f-9d3d-4fb1-a27e-d917731142cc",
   "metadata": {},
   "source": [
    "### Do some training for a few epochs."
   ]
  },
  {
   "cell_type": "code",
   "execution_count": 123,
   "id": "acd741d2-5e67-4322-8f7e-527f8601e199",
   "metadata": {},
   "outputs": [
    {
     "name": "stdout",
     "output_type": "stream",
     "text": [
      "epoch=      1, train=        0.21706, validation=         0.1477\n",
      "epoch=      2, train=        0.12516, validation=        0.11706\n",
      "epoch=      3, train=        0.10843, validation=        0.10653\n",
      "epoch=      4, train=        0.10089, validation=       0.099063\n",
      "epoch=      5, train=       0.095392, validation=       0.096071\n",
      "Average time per epoch (ms):\n",
      "\ttrain=           367.3, validation=           39.58\n",
      "Saving checkpoint: ./checkpoints/chkpt-0000005.pt ... done\n"
     ]
    }
   ],
   "source": [
    "training.train(5, show_loss=True, checkpt_every=-1)"
   ]
  },
  {
   "cell_type": "code",
   "execution_count": 124,
   "id": "0c93e5b0-90c0-4f23-814c-acc73dadbb4d",
   "metadata": {},
   "outputs": [
    {
     "data": {
      "text/plain": [
       "{'train': [0.21706401137886822,\n",
       "  0.12515540743196332,\n",
       "  0.10842638519164678,\n",
       "  0.10088505116668907,\n",
       "  0.09539238069508527],\n",
       " 'validation': [0.14769588400785988,\n",
       "  0.11706411637164452,\n",
       "  0.10652628198668763,\n",
       "  0.0990631933751944,\n",
       "  0.09607089824370436],\n",
       " 'epoch': [1, 2, 3, 4, 5]}"
      ]
     },
     "execution_count": 124,
     "metadata": {},
     "output_type": "execute_result"
    }
   ],
   "source": [
    "training.losses"
   ]
  },
  {
   "cell_type": "code",
   "execution_count": 125,
   "id": "4247a420-e2d9-4ea9-8594-16ac5e96206e",
   "metadata": {},
   "outputs": [
    {
     "name": "stdout",
     "output_type": "stream",
     "text": [
      "epoch=      6, train=        0.09175, validation=       0.092324\n",
      "Saving checkpoint: ./checkpoints/chkpt-0000006.pt ... done\n",
      "epoch=      7, train=        0.08869, validation=       0.090151\n",
      "epoch=      8, train=       0.086462, validation=        0.09023\n",
      "Saving checkpoint: ./checkpoints/chkpt-0000008.pt ... done\n",
      "epoch=      9, train=       0.084633, validation=       0.088524\n",
      "epoch=     10, train=       0.082874, validation=       0.087479\n",
      "Saving checkpoint: ./checkpoints/chkpt-0000010.pt ... done\n",
      "epoch=     11, train=        0.08155, validation=       0.085217\n",
      "epoch=     12, train=       0.080126, validation=       0.085226\n",
      "Saving checkpoint: ./checkpoints/chkpt-0000012.pt ... done\n",
      "epoch=     13, train=       0.078681, validation=       0.082904\n",
      "epoch=     14, train=       0.077997, validation=       0.082492\n",
      "Saving checkpoint: ./checkpoints/chkpt-0000014.pt ... done\n",
      "epoch=     15, train=       0.077282, validation=       0.082286\n",
      "Average time per epoch (ms):\n",
      "\ttrain=           368.4, validation=           39.35\n",
      "Saving checkpoint: ./checkpoints/chkpt-0000015.pt ... done\n"
     ]
    }
   ],
   "source": [
    "training.train(10, show_loss=True, checkpt_every=2)"
   ]
  },
  {
   "cell_type": "markdown",
   "id": "7e5d02f0-ab67-43f7-93fa-b88b314cc9e2",
   "metadata": {},
   "source": [
    "### Now load from checkpoint and continue training."
   ]
  },
  {
   "cell_type": "code",
   "execution_count": 126,
   "id": "b8e4ec29-ff1f-4390-b620-d3cb0d00df02",
   "metadata": {},
   "outputs": [
    {
     "name": "stdout",
     "output_type": "stream",
     "text": [
      "Training on CPU (No cuda-enabled device found)\n",
      "[Success] Checkpoint loaded: ./checkpoints/chkpt-0000015.pt\n"
     ]
    }
   ],
   "source": [
    "training = train.Training(-1)\n",
    "\n",
    "training.set_loss()\n",
    "training.set_model(ae)\n",
    "training.set_optimizer(learning_rate=0, weight_decay=0)\n",
    "training.set_training_dataloader(training_dataloader)\n",
    "training.set_validation_dataloader(validation_dataloader)\n",
    "training.load_checkpoint('./checkpoints/chkpt-0000015.pt')"
   ]
  },
  {
   "cell_type": "code",
   "execution_count": 127,
   "id": "59ed1d3c-a95a-4861-8cf2-aa6418caa42d",
   "metadata": {},
   "outputs": [
    {
     "name": "stdout",
     "output_type": "stream",
     "text": [
      "15\n",
      "{'train': [0.21706401137886822, 0.12515540743196332, 0.10842638519164678, 0.10088505116668907, 0.09539238069508527, 0.09175025881142229, 0.0886898715149712, 0.08646180637784906, 0.08463301042447219, 0.08287442646719315, 0.08155010670826242, 0.0801257316929263, 0.07868139882748192, 0.07799682389642741, 0.07728202463807286], 'validation': [0.14769588400785988, 0.11706411637164452, 0.10652628198668763, 0.0990631933751944, 0.09607089824370436, 0.09232396773389868, 0.09015072147185738, 0.09022963797119823, 0.08852376074001596, 0.0874789575165188, 0.08521674361986083, 0.08522616563415206, 0.08290415503890128, 0.08249229097084419, 0.08228646108024829], 'epoch': []}\n"
     ]
    }
   ],
   "source": [
    "print(training.current_epoch)\n",
    "print(training.losses)"
   ]
  },
  {
   "cell_type": "code",
   "execution_count": 128,
   "id": "eb11425a-d894-491a-8364-79d6106cbd46",
   "metadata": {},
   "outputs": [
    {
     "name": "stdout",
     "output_type": "stream",
     "text": [
      "epoch=     16, train=       0.076604, validation=       0.081797\n",
      "epoch=     17, train=       0.075872, validation=       0.081471\n",
      "epoch=     18, train=       0.075221, validation=       0.079545\n",
      "epoch=     19, train=       0.074373, validation=       0.079045\n",
      "epoch=     20, train=       0.073697, validation=       0.078391\n",
      "Average time per epoch (ms):\n",
      "\ttrain=           552.0, validation=           93.43\n",
      "Saving checkpoint: ./checkpoints/chkpt-0000020.pt ... done\n"
     ]
    }
   ],
   "source": [
    "training.train(5, show_loss=True)"
   ]
  },
  {
   "cell_type": "markdown",
   "id": "8446b57d-5bc9-4cb6-a5d0-d7aed21dc22e",
   "metadata": {},
   "source": [
    "# Inference"
   ]
  },
  {
   "cell_type": "code",
   "execution_count": 129,
   "id": "c977a9d0-1b58-41b5-97d9-f4985b8128e7",
   "metadata": {},
   "outputs": [
    {
     "data": {
      "text/plain": [
       "<module 'evaluate' from '/home/dockeruser/code/pytorch-notes/lessons/mnist-experiments/evaluate.py'>"
      ]
     },
     "execution_count": 129,
     "metadata": {},
     "output_type": "execute_result"
    }
   ],
   "source": [
    "reload(evaluate)"
   ]
  },
  {
   "cell_type": "markdown",
   "id": "fee1abf0-c00b-434f-bbec-41f94230f813",
   "metadata": {},
   "source": [
    "## Evaluating on a single test image\n",
    "\n",
    "Lets first see how well this autoencoder model does on a single test image.  We will pick an image from our test_dataset"
   ]
  },
  {
   "cell_type": "code",
   "execution_count": 130,
   "id": "b6e949c7-63eb-4a11-9fc3-0266a2781d3c",
   "metadata": {},
   "outputs": [
    {
     "name": "stdout",
     "output_type": "stream",
     "text": [
      "Evaluating on [0]: GeForce GTX TITAN X\n"
     ]
    }
   ],
   "source": [
    "inference = evaluate.Evaluate(0)\n",
    "inference.set_loss()\n",
    "inference.set_model(training.get_model())"
   ]
  },
  {
   "cell_type": "code",
   "execution_count": 74,
   "id": "b35cc6de-e032-4202-9a07-854b55358208",
   "metadata": {},
   "outputs": [
    {
     "name": "stdout",
     "output_type": "stream",
     "text": [
      "Took 0.9530559778213501 ms\n"
     ]
    },
    {
     "data": {
      "image/png": "[encoded data removed]",
      "text/plain": [
       "<Figure size 720x360 with 2 Axes>"
      ]
     },
     "metadata": {
      "needs_background": "light"
     },
     "output_type": "display_data"
    }
   ],
   "source": [
    "idx = 130\n",
    "data_item = test_dataset[idx]\n",
    "input_img = data_item['sample'] \n",
    "\n",
    "rec_img, loss, _ = inference.reconstruct_one_image(input_img)\n",
    "\n",
    "plt.figure(figsize=(10,5))\n",
    "plt.suptitle('Image reconstruction')\n",
    "plt.subplot(121)\n",
    "plt.title('Input image')\n",
    "plt.imshow(input_img.squeeze())\n",
    "plt.subplot(122)\n",
    "plt.title(f'Loss={loss:06.5}')\n",
    "plt.imshow(rec_img.squeeze());"
   ]
  },
  {
   "cell_type": "code",
   "execution_count": 78,
   "id": "3226efcb-f77f-4b6d-96d4-b60e32c5231c",
   "metadata": {},
   "outputs": [
    {
     "name": "stdout",
     "output_type": "stream",
     "text": [
      "Loss: mean=0.13894126786820016, average=0.0022909715579221587\n",
      "Took 714.7518310546875 ms\n"
     ]
    }
   ],
   "source": [
    "test_dataloader = torch.utils.data.DataLoader(test_dataset,\n",
    "                                              batch_size=1,\n",
    "                                              shuffle=False)\n",
    "\n",
    "inference.evaluate(test_dataloader);"
   ]
  },
  {
   "cell_type": "code",
   "execution_count": null,
   "id": "33cd634f-3212-4881-baba-271755b43c85",
   "metadata": {},
   "outputs": [],
   "source": [
    "print(loss)"
   ]
  },
  {
   "cell_type": "code",
   "execution_count": null,
   "id": "1f797626-77b7-4fd0-9dea-89220201c6fb",
   "metadata": {},
   "outputs": [],
   "source": [
    "output.shape"
   ]
  },
  {
   "cell_type": "code",
   "execution_count": null,
   "id": "cb39f4a4-cb6a-4e5c-ac8c-1101fb04accd",
   "metadata": {},
   "outputs": [],
   "source": [
    "idx[:3]"
   ]
  },
  {
   "cell_type": "code",
   "execution_count": null,
   "id": "6b105584-8fa3-43a6-8744-059eae4aa1af",
   "metadata": {},
   "outputs": [],
   "source": [
    "idx[3:7]"
   ]
  },
  {
   "cell_type": "code",
   "execution_count": null,
   "id": "08964321-3b85-4a99-9575-a95220779def",
   "metadata": {},
   "outputs": [],
   "source": []
  }
 ],
 "metadata": {
  "kernelspec": {
   "display_name": "Python 3",
   "language": "python",
   "name": "python3"
  },
  "language_info": {
   "codemirror_mode": {
    "name": "ipython",
    "version": 3
   },
   "file_extension": ".py",
   "mimetype": "text/x-python",
   "name": "python",
   "nbconvert_exporter": "python",
   "pygments_lexer": "ipython3",
   "version": "3.6.9"
  }
 },
 "nbformat": 4,
 "nbformat_minor": 5
}
