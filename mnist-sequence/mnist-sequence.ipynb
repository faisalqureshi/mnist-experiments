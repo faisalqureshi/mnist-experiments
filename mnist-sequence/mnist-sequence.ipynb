{
 "cells": [
  {
   "cell_type": "markdown",
   "id": "3f812abf-313d-42af-a954-97203d3b4984",
   "metadata": {},
   "source": [
    "# Generating MNIST Sequences\n",
    "\n",
    "Faisal Qureshi    \n",
    "faisal.qureshi@ontariotechu.ca"
   ]
  },
  {
   "cell_type": "code",
   "execution_count": 123,
   "id": "685a43a9-e83c-4780-a54d-5ccd8f419af5",
   "metadata": {},
   "outputs": [],
   "source": [
    "from importlib import reload\n",
    "import os\n",
    "import sys\n",
    "import matplotlib.pyplot as plt\n",
    "import torch\n",
    "import numpy as np\n",
    "import random"
   ]
  },
  {
   "cell_type": "code",
   "execution_count": 124,
   "id": "5410f02f-0159-4738-8dc7-4be7900e0855",
   "metadata": {},
   "outputs": [],
   "source": [
    "sys.path.insert(0, os.path.abspath('..'))\n",
    "from ae import data"
   ]
  },
  {
   "cell_type": "code",
   "execution_count": 125,
   "id": "8772f172-a1e3-4692-9947-28d80f061299",
   "metadata": {},
   "outputs": [],
   "source": [
    "digits = data.Digits(datafolder='../datasets', digits='all')"
   ]
  },
  {
   "cell_type": "code",
   "execution_count": 126,
   "id": "370e912d-9119-4772-8de0-2f4f029dca0a",
   "metadata": {},
   "outputs": [],
   "source": [
    "#digits[0]"
   ]
  },
  {
   "cell_type": "code",
   "execution_count": 127,
   "id": "9137d46c-5e33-4ca6-b479-53fb101972c6",
   "metadata": {},
   "outputs": [],
   "source": [
    "sorted, indices = torch.sort(input=digits.labels, dim=0, descending=False, stable=True)"
   ]
  },
  {
   "cell_type": "code",
   "execution_count": 128,
   "id": "b9e0620c-9275-4e4d-9e3f-efaed16f358a",
   "metadata": {},
   "outputs": [],
   "source": [
    "starts = np.zeros(10, dtype=np.int32)-1\n",
    "counts = np.zeros(10, dtype=np.int32)\n",
    "for i in range(len(sorted)):\n",
    "    ii = int(sorted[i].item())\n",
    "    counts[ii] += 1\n",
    "    if starts[ii] < 0:\n",
    "        starts[ii] = i"
   ]
  },
  {
   "cell_type": "code",
   "execution_count": 129,
   "id": "0a21678c-58a7-4003-97a1-2c8649d1bdb8",
   "metadata": {},
   "outputs": [
    {
     "data": {
      "text/plain": [
       "array([    0,  5923, 12665, 18623, 24754, 30596, 36017, 41935, 48200,\n",
       "       54051], dtype=int32)"
      ]
     },
     "execution_count": 129,
     "metadata": {},
     "output_type": "execute_result"
    }
   ],
   "source": [
    "starts"
   ]
  },
  {
   "cell_type": "code",
   "execution_count": 130,
   "id": "5ee4be84-c2b3-4030-823a-357b22503253",
   "metadata": {},
   "outputs": [
    {
     "data": {
      "text/plain": [
       "array([5923, 6742, 5958, 6131, 5842, 5421, 5918, 6265, 5851, 5949],\n",
       "      dtype=int32)"
      ]
     },
     "execution_count": 130,
     "metadata": {},
     "output_type": "execute_result"
    }
   ],
   "source": [
    "counts"
   ]
  },
  {
   "cell_type": "code",
   "execution_count": 131,
   "id": "e542191b-ae82-4af6-b56a-8746b2f0a290",
   "metadata": {},
   "outputs": [],
   "source": [
    "def sample_sequence(start_digit, seq_length):\n",
    "    digits = np.empty(seq_length)\n",
    "    increasing = True\n",
    "    current = start_digit\n",
    "    for i in range(seq_length):\n",
    "        digits[i] = current\n",
    "        if increasing: \n",
    "            if current < 9:\n",
    "                current += 1\n",
    "            else:\n",
    "                increasing = False\n",
    "                current -= 1\n",
    "        else:\n",
    "            if current > 0:\n",
    "                current -= 1\n",
    "            else:\n",
    "                increasing = True\n",
    "                current += 1\n",
    "    \n",
    "    return digits"
   ]
  },
  {
   "cell_type": "code",
   "execution_count": 132,
   "id": "89259582-b8fa-42b3-8364-ba120685d0c1",
   "metadata": {},
   "outputs": [
    {
     "name": "stdout",
     "output_type": "stream",
     "text": [
      "[8. 9. 8. 7. 6.]\n"
     ]
    }
   ],
   "source": [
    "seq = sample_sequence(start_digit, seq_length)\n",
    "print(seq)"
   ]
  },
  {
   "cell_type": "code",
   "execution_count": 133,
   "id": "fae7cbd5-45ff-4b06-853a-648d21112056",
   "metadata": {},
   "outputs": [
    {
     "data": {
      "text/plain": [
       "array([    0,  5923, 12665, 18623, 24754, 30596, 36017, 41935, 48200,\n",
       "       54051], dtype=int32)"
      ]
     },
     "execution_count": 133,
     "metadata": {},
     "output_type": "execute_result"
    }
   ],
   "source": [
    "starts"
   ]
  },
  {
   "cell_type": "code",
   "execution_count": 134,
   "id": "fb9ce16b-0c8d-47e6-b1b0-486199084d8c",
   "metadata": {},
   "outputs": [
    {
     "data": {
      "text/plain": [
       "array([ 5923, 12665, 18623, 24754, 30596, 36017, 41935, 48200, 54051,\n",
       "       60000], dtype=int32)"
      ]
     },
     "execution_count": 134,
     "metadata": {},
     "output_type": "execute_result"
    }
   ],
   "source": [
    "ends = starts+counts\n",
    "ends"
   ]
  },
  {
   "cell_type": "code",
   "execution_count": 135,
   "id": "cc585ce6-26bc-4fe3-aed8-135d158e32f2",
   "metadata": {},
   "outputs": [
    {
     "data": {
      "text/plain": [
       "<ae.data.Digits at 0x7f3ed1aab278>"
      ]
     },
     "execution_count": 135,
     "metadata": {},
     "output_type": "execute_result"
    }
   ],
   "source": [
    "digits"
   ]
  },
  {
   "cell_type": "code",
   "execution_count": 136,
   "id": "fed46c0a-aa08-497e-8d56-0507577c456d",
   "metadata": {},
   "outputs": [],
   "source": [
    "def pick(digit, starts, counts):\n",
    "    return random.randrange(counts[digit])+starts[digit]"
   ]
  },
  {
   "cell_type": "code",
   "execution_count": 158,
   "id": "7fea3105-b441-46fd-8502-3d2bcff0136d",
   "metadata": {},
   "outputs": [
    {
     "name": "stdout",
     "output_type": "stream",
     "text": [
      "12203\n"
     ]
    },
    {
     "data": {
      "text/plain": [
       "<matplotlib.image.AxesImage at 0x7f3ed1685c50>"
      ]
     },
     "execution_count": 158,
     "metadata": {},
     "output_type": "execute_result"
    },
    {
     "data": {
      "image/png": "[encoded data removed]",
      "text/plain": [
       "<Figure size 360x360 with 1 Axes>"
      ]
     },
     "metadata": {
      "needs_background": "light"
     },
     "output_type": "display_data"
    }
   ],
   "source": [
    "i = pick(1, starts, counts)\n",
    "print(i)\n",
    "\n",
    "plt.figure(figsize=(5,5))\n",
    "plt.imshow(digits[indices[i]]['sample'].squeeze())"
   ]
  },
  {
   "cell_type": "code",
   "execution_count": 148,
   "id": "f82d7f74-d135-4df1-83cf-864d2da4ac8a",
   "metadata": {},
   "outputs": [
    {
     "name": "stdout",
     "output_type": "stream",
     "text": [
      "[8 9 8 7 6]\n",
      "[    0  5923 12665 18623 24754 30596 36017 41935 48200 54051]\n",
      "[5923 6742 5958 6131 5842 5421 5918 6265 5851 5949]\n",
      "8\n",
      "9\n",
      "8\n",
      "7\n",
      "6\n",
      "[48711 59082 52240 41950 37328]\n"
     ]
    }
   ],
   "source": [
    "seq = sample_sequence(start_digit, seq_length).astype(np.int32)\n",
    "ii = np.empty(len(seq), dtype=np.int32)\n",
    "print(seq)\n",
    "print(starts)\n",
    "print(counts)\n",
    "for i in range(len(seq)):\n",
    "    print(seq[i])\n",
    "    ii[i] = pick(seq[i], starts, counts)\n",
    "print(ii)"
   ]
  },
  {
   "cell_type": "code",
   "execution_count": 159,
   "id": "5c64c48a-1a68-455b-bc11-dae8e1307202",
   "metadata": {},
   "outputs": [
    {
     "data": {
      "text/plain": [
       "<matplotlib.image.AxesImage at 0x7f3ed16702b0>"
      ]
     },
     "execution_count": 159,
     "metadata": {},
     "output_type": "execute_result"
    },
    {
     "data": {
      "image/png": "[encoded data removed]",
      "text/plain": [
       "<Figure size 432x288 with 1 Axes>"
      ]
     },
     "metadata": {
      "needs_background": "light"
     },
     "output_type": "display_data"
    }
   ],
   "source": [
    "plt.imshow(digits[indices[ii[0]]]['sample'].squeeze())"
   ]
  },
  {
   "cell_type": "code",
   "execution_count": 160,
   "id": "88196335-9b97-4ea7-9a27-787e43c71f90",
   "metadata": {},
   "outputs": [
    {
     "data": {
      "text/plain": [
       "<matplotlib.image.AxesImage at 0x7f3ed15c9c88>"
      ]
     },
     "execution_count": 160,
     "metadata": {},
     "output_type": "execute_result"
    },
    {
     "data": {
      "image/png": "[encoded data removed]",
      "text/plain": [
       "<Figure size 432x288 with 1 Axes>"
      ]
     },
     "metadata": {
      "needs_background": "light"
     },
     "output_type": "display_data"
    }
   ],
   "source": [
    "plt.imshow(digits[indices[ii[1]]]['sample'].squeeze())"
   ]
  },
  {
   "cell_type": "code",
   "execution_count": 161,
   "id": "8acd488c-2e4d-469d-ac2e-40425d96d23d",
   "metadata": {},
   "outputs": [
    {
     "data": {
      "text/plain": [
       "<matplotlib.image.AxesImage at 0x7f3ed15b4630>"
      ]
     },
     "execution_count": 161,
     "metadata": {},
     "output_type": "execute_result"
    },
    {
     "data": {
      "image/png": "[encoded data removed]",
      "text/plain": [
       "<Figure size 432x288 with 1 Axes>"
      ]
     },
     "metadata": {
      "needs_background": "light"
     },
     "output_type": "display_data"
    }
   ],
   "source": [
    "plt.imshow(digits[indices[ii[2]]]['sample'].squeeze())"
   ]
  },
  {
   "cell_type": "code",
   "execution_count": 162,
   "id": "1ebd72cf-68e1-4343-92a1-ba75350b5fa9",
   "metadata": {},
   "outputs": [
    {
     "data": {
      "text/plain": [
       "<matplotlib.image.AxesImage at 0x7f3ed151a048>"
      ]
     },
     "execution_count": 162,
     "metadata": {},
     "output_type": "execute_result"
    },
    {
     "data": {
      "image/png": "[encoded data removed]",
      "text/plain": [
       "<Figure size 432x288 with 1 Axes>"
      ]
     },
     "metadata": {
      "needs_background": "light"
     },
     "output_type": "display_data"
    }
   ],
   "source": [
    "plt.imshow(digits[indices[ii[3]]]['sample'].squeeze())"
   ]
  },
  {
   "cell_type": "code",
   "execution_count": 163,
   "id": "ba38f900-4515-48a9-88a7-361930cce2a6",
   "metadata": {},
   "outputs": [
    {
     "data": {
      "text/plain": [
       "<matplotlib.image.AxesImage at 0x7f3ed14f2a20>"
      ]
     },
     "execution_count": 163,
     "metadata": {},
     "output_type": "execute_result"
    },
    {
     "data": {
      "image/png": "[encoded data removed]",
      "text/plain": [
       "<Figure size 432x288 with 1 Axes>"
      ]
     },
     "metadata": {
      "needs_background": "light"
     },
     "output_type": "display_data"
    }
   ],
   "source": [
    "plt.imshow(digits[indices[ii[4]]]['sample'].squeeze())"
   ]
  },
  {
   "cell_type": "code",
   "execution_count": 173,
   "id": "7bb9351b-f2fa-4247-89b1-42a45f244c5e",
   "metadata": {},
   "outputs": [],
   "source": [
    "seq1 = torch.zeros([5,1,28,28])"
   ]
  },
  {
   "cell_type": "code",
   "execution_count": 174,
   "id": "fa212bd0-c3b6-4333-a0cd-ecc9adf3827d",
   "metadata": {},
   "outputs": [
    {
     "name": "stdout",
     "output_type": "stream",
     "text": [
      "torch.Size([5, 1, 28, 28])\n"
     ]
    }
   ],
   "source": [
    "print(seq1.shape)"
   ]
  },
  {
   "cell_type": "code",
   "execution_count": 175,
   "id": "2efe97d1-8fe4-49f2-8380-d9df270b76c1",
   "metadata": {},
   "outputs": [],
   "source": [
    "for i in range(len(ii)):\n",
    "    seq1[i,0,:,:] = digits[indices[ii[i]]]['sample'].squeeze()"
   ]
  },
  {
   "cell_type": "code",
   "execution_count": 179,
   "id": "77c81620-1380-4fb4-9938-2b24a5a47242",
   "metadata": {},
   "outputs": [
    {
     "data": {
      "text/plain": [
       "<matplotlib.image.AxesImage at 0x7f3ed13ada58>"
      ]
     },
     "execution_count": 179,
     "metadata": {},
     "output_type": "execute_result"
    },
    {
     "data": {
      "image/png": "[encoded data removed]",
      "text/plain": [
       "<Figure size 432x288 with 1 Axes>"
      ]
     },
     "metadata": {
      "needs_background": "light"
     },
     "output_type": "display_data"
    }
   ],
   "source": [
    "plt.imshow(seq1[2,0,:,:])"
   ]
  },
  {
   "cell_type": "code",
   "execution_count": null,
   "id": "e878ee27-8b76-4ccf-8f05-18fb32e3d918",
   "metadata": {},
   "outputs": [],
   "source": []
  }
 ],
 "metadata": {
  "kernelspec": {
   "display_name": "Python 3",
   "language": "python",
   "name": "python3"
  },
  "language_info": {
   "codemirror_mode": {
    "name": "ipython",
    "version": 3
   },
   "file_extension": ".py",
   "mimetype": "text/x-python",
   "name": "python",
   "nbconvert_exporter": "python",
   "pygments_lexer": "ipython3",
   "version": "3.6.9"
  }
 },
 "nbformat": 4,
 "nbformat_minor": 5
}
